{
 "cells": [
  {
   "cell_type": "code",
   "execution_count": 121,
   "metadata": {
    "tags": []
   },
   "outputs": [
    {
     "name": "stdout",
     "output_type": "stream",
     "text": [
      "The autoreload extension is already loaded. To reload it, use:\n",
      "  %reload_ext autoreload\n"
     ]
    }
   ],
   "source": [
    "# Useful starting lines\n",
    "%matplotlib inline\n",
    "import numpy as np\n",
    "import matplotlib.pyplot as plt\n",
    "%load_ext autoreload\n",
    "%autoreload 2"
   ]
  },
  {
   "cell_type": "markdown",
   "metadata": {},
   "source": [
    "## Load the training data into feature matrix, class labels, and event ids:"
   ]
  },
  {
   "cell_type": "code",
   "execution_count": 122,
   "metadata": {},
   "outputs": [
    {
     "name": "stdout",
     "output_type": "stream",
     "text": [
      "(250000, 19)\n"
     ]
    }
   ],
   "source": [
    "from proj1_helpers import *\n",
    "DATA_TRAIN_PATH = 'data/train.csv.zip' # TODO: download train data and supply path here \n",
    "y, tX, ids = load_csv_data(DATA_TRAIN_PATH)\n",
    "tX_2 = load_csv_data_2(DATA_TRAIN_PATH)\n",
    "print(np.shape(tX_2))"
   ]
  },
  {
   "cell_type": "markdown",
   "metadata": {},
   "source": [
    "# Data cleaning and normalisation"
   ]
  },
  {
   "cell_type": "code",
   "execution_count": 123,
   "metadata": {},
   "outputs": [],
   "source": [
    "# we know that very low values are used to signal unavailable data\n",
    "tX[tX < -900] = np.nan"
   ]
  },
  {
   "cell_type": "code",
   "execution_count": 124,
   "metadata": {},
   "outputs": [
    {
     "name": "stdout",
     "output_type": "stream",
     "text": [
      "[[ 0.28991353  0.06833197  0.40768027 ...  0.61614788 -1.36131161\n",
      "   0.4125105 ]\n",
      " [ 0.68202131  0.55250482  0.54013641 ...  0.          0.\n",
      "  -0.27381996]\n",
      " [ 0.          3.19515553  1.09655998 ...  0.          0.\n",
      "  -0.29396985]\n",
      " ...\n",
      " [-0.28624947  0.31931645 -0.13086367 ...  0.          0.\n",
      "  -0.31701723]\n",
      " [-0.46960659 -0.84532397 -0.30297338 ...  0.          0.\n",
      "  -0.74543941]\n",
      " [ 0.          0.66533608 -0.25352276 ...  0.          0.\n",
      "  -0.74543941]]\n"
     ]
    }
   ],
   "source": [
    "tX_mean = np.nanmean(tX,axis=0)\n",
    "\n",
    "tX_std = np.nanstd(tX,axis=0)\n",
    "norm_tX = np.subtract(tX, tX_mean, where=np.isfinite(tX_mean))\n",
    "norm_tX = np.divide(norm_tX, tX_std, where=tX_std>0)\n",
    "norm_tX[np.isnan(norm_tX)] =0\n",
    "print(norm_tX)\n",
    "\n",
    "#tX2_mean = np.nanmean(tX_2,axis=0)\n",
    "#tX2_std = np.nanstd(tX_2,axis=0)\n",
    "#norm_tX2 = np.subtract(tX_2, tX2_mean, where=np.isfinite(tX2_mean))\n",
    "#norm_tX2 = np.divide(norm_tX2, tX2_std, where=tX2_std>0)\n",
    "#norm_tX = np.c_[np.ones(num_samples), norm_tX] car je le fais dans build poly"
   ]
  },
  {
   "cell_type": "markdown",
   "metadata": {},
   "source": [
    "# Least squares and Polynomial regression\n"
   ]
  },
  {
   "cell_type": "code",
   "execution_count": 125,
   "metadata": {},
   "outputs": [],
   "source": [
    "def least_squares(y, tx):\n",
    "    \"\"\"calculate the least squares solution.\"\"\"\n",
    "    a = tx.T.dot(tx)\n",
    "    b = tx.T.dot(y)\n",
    "    \n",
    "    \n",
    "    return np.linalg.solve(a, b)"
   ]
  },
  {
   "cell_type": "code",
   "execution_count": 126,
   "metadata": {},
   "outputs": [],
   "source": [
    "from costs import compute_mse\n",
    "from plots import *\n",
    "\n",
    "def polynomial_regression(x):\n",
    "    \"\"\"Constructing the polynomial basis function expansion of the data,\n",
    "       and then running least squares regression.\"\"\"\n",
    "    # define parameters\n",
    "    degrees = [1,3,7,12]\n",
    "    \n",
    "    \n",
    "    for ind, degree in enumerate(degrees):\n",
    "        # form dataset to do polynomial regression.\n",
    "        tx = build_poly(x, degree)\n",
    "        \n",
    "        # least squares\n",
    "        weights = least_squares(y, tx)\n",
    "        \n",
    "        \n",
    "        # compute RMSE\n",
    "        rmse = np.sqrt(2 * compute_mse(y, tx, weights))\n",
    "        print(\"Processing {i}th experiment, degree={d}, rmse={loss}\".format(\n",
    "              i=ind + 1, d=degree, loss=rmse))\n",
    "       \n",
    "        # print\n",
    "        #print(np.shape(y))\n",
    "        #print(np.shape(tx))\n",
    "        #print(np.shape(weights))\n",
    "        \n",
    "    return weights\n",
    "                \n"
   ]
  },
  {
   "cell_type": "code",
   "execution_count": 127,
   "metadata": {},
   "outputs": [],
   "source": [
    "\n",
    "#weights = polynomial_regression(norm_tX)\n",
    "#weights = polynomial_regression(norm_tX2)\n"
   ]
  },
  {
   "cell_type": "code",
   "execution_count": 128,
   "metadata": {},
   "outputs": [],
   "source": [
    "def split_data(x, y, ratio, seed=1):\n",
    "    \"\"\"split the dataset based on the split ratio.\"\"\"\n",
    "    # set seed\n",
    "    np.random.seed(seed)\n",
    "    # generate random indices\n",
    "    num_row = len(y)\n",
    "    indices = np.random.permutation(num_row)\n",
    "    index_split = int(np.floor(ratio * num_row))\n",
    "    index_tr = indices[: index_split]\n",
    "    index_te = indices[index_split:]\n",
    "    # create split\n",
    "    x_tr = x[index_tr]\n",
    "    x_te = x[index_te]\n",
    "    y_tr = y[index_tr]\n",
    "    y_te = y[index_te]\n",
    "    return x_tr, x_te, y_tr, y_te"
   ]
  },
  {
   "cell_type": "code",
   "execution_count": 131,
   "metadata": {},
   "outputs": [],
   "source": [
    "def train_test_split_demo(x, y, degree, ratio, seed):\n",
    "    \"\"\"polynomial regression with different split ratios and different degrees.\"\"\"\n",
    "    x_tr, x_te, y_tr, y_te = split_data(x, y, ratio, seed)\n",
    "    # form tx\n",
    "    tx_tr = build_poly(x_tr, degree)\n",
    "    tx_te = build_poly(x_te, degree)\n",
    "\n",
    "    weight = least_squares(y_tr, tx_tr)\n",
    "    \n",
    "    #if ((ratio == 0,9) and (degree == 7)):\n",
    "    weights = weight\n",
    "    #print(weights)\n",
    "\n",
    "    # calculate RMSE for train and test data.\n",
    "    rmse_tr = np.sqrt(2 * compute_mse(y_tr, tx_tr, weight))\n",
    "    rmse_te = np.sqrt(2 * compute_mse(y_te, tx_te, weight))\n",
    "\n",
    "    print(\"proportion={p}, degree={d}, Training RMSE={tr:.3f}, Testing RMSE={te:.3f}\".format(\n",
    "          p=ratio, d=degree, tr=rmse_tr, te=rmse_te))\n",
    "    return weight"
   ]
  },
  {
   "cell_type": "code",
   "execution_count": 132,
   "metadata": {},
   "outputs": [
    {
     "name": "stdout",
     "output_type": "stream",
     "text": [
      "[-1.63846625e+00  4.32972961e-01 -3.90281463e-01 -3.58878001e-01\n",
      "  7.05052572e-02  2.36840263e-01 -2.30021948e-01 -1.88355950e-01\n",
      "  1.94357202e-01 -2.39445474e-02 -2.24144495e+02 -1.96113958e-01\n",
      " -1.50648176e-01  1.96666666e-01  4.36111359e+01  9.29958904e-03\n",
      " -1.28202227e-03  4.29794961e+01  5.71082946e-03  3.59189189e-03\n",
      " -2.40448242e-03  7.76453256e-03 -2.62721400e-02  7.01847564e+01\n",
      "  1.56659322e-01 -7.18048227e-05 -1.13590486e-02  1.85668930e-01\n",
      "  3.01843356e-03  2.28393072e-02  1.89775855e+02 -1.85806326e-01\n",
      "  8.90463250e-03 -4.28457037e-02  8.22522285e-02  1.02069330e-01\n",
      "  3.60599648e-01 -2.98687526e-02 -4.70943523e-03 -1.06756105e-02\n",
      "  4.48467102e-02  1.12425379e-01  2.79261549e-02  3.62528573e-02\n",
      " -9.61560662e-02  1.21498498e-02 -6.01680381e-03 -1.13801127e-01\n",
      " -4.71817415e-02 -1.96036514e-03  4.11082600e-02 -6.16966284e-03\n",
      " -7.40118812e-02  2.75143493e+01 -1.01566080e-01  1.63819671e-01\n",
      "  1.04899949e-02 -6.28894701e-02  2.22402359e-01 -4.89182787e-02\n",
      " -2.48429160e-02 -9.31168265e-02  9.42226107e-02  3.86607393e-02\n",
      " -6.88319457e-02 -2.48388033e-01 -2.35813796e-01  1.69369482e-03\n",
      "  9.46487491e-03  1.19713142e-02 -5.21930859e-02 -3.73097327e-02\n",
      "  3.10893087e-01 -4.78725762e-02  1.60193255e-02 -2.51977496e-02\n",
      " -3.63729475e-03  5.56083547e-02 -1.00332596e-02 -3.08053217e-03\n",
      " -2.49227168e-02 -2.50479284e-02  2.63740208e-02 -7.57110011e+01\n",
      "  7.15876464e-02 -9.05177255e-03  1.58848848e-03  1.72064048e-02\n",
      " -3.52473412e-03 -6.54926240e-02  2.99092474e-02  4.43569917e-02\n",
      " -2.83414562e-02 -6.57185141e-03  2.87268223e-02 -2.08806976e-04\n",
      "  7.03947110e-02 -1.50826558e-03 -1.90878600e-02 -2.18396079e-03\n",
      "  1.81848384e-02  5.74386142e-03 -3.56846915e-02  7.02892050e-02\n",
      " -8.03761077e-04 -2.91878118e-02  2.00660345e-03 -1.23976124e-02\n",
      " -8.39320554e-03  3.51969301e-05  5.65333997e-03  9.72652439e-03\n",
      " -2.44699735e-03 -1.79072875e+01 -2.73938384e-02 -7.51223575e-03\n",
      " -5.53261617e-03 -2.87678974e-03 -2.52265948e-02  2.96478599e-02\n",
      " -1.02376231e-02 -6.22727674e-03  3.30633216e-03  4.73655123e-04\n",
      " -6.04402350e-03  7.09467225e-02 -1.04966136e-02  1.49592649e-03\n",
      "  5.55787451e-03  1.55223878e-04 -2.78760255e-03 -4.33873689e-04\n",
      " -3.33214045e-03 -6.54516302e-02 -2.29247984e-05  1.48840674e-02\n",
      "  5.07859821e-03  1.30369604e-03  5.70662734e-03  2.24484845e-03\n",
      " -5.75144243e-04  1.94812541e-02 -2.22968424e-04  2.67071492e+00\n",
      "  5.22461262e-03  5.07408787e-03  5.53665869e-03  2.47759437e-04\n",
      "  8.59879552e-04  4.23357543e-02  1.54750789e-03  3.60013578e-04\n",
      " -1.71231994e-04 -1.53834043e-05  5.94835733e-04 -1.57721901e-02\n",
      "  7.59179225e-04  1.61765271e-04  3.12323262e-03 -4.64874436e-06\n",
      "  1.95933507e-04  1.55606808e-05  2.52292551e-02 -3.78057959e-02\n",
      "  2.84602198e-06  4.89428907e-03  5.42300154e-05 -6.37553289e-05\n",
      "  2.09349426e-03  8.52233943e-05  2.64288666e-05 -3.05603345e-03\n",
      "  4.16551705e-05 -4.87388540e+00 -4.66903907e-04 -6.18631708e-04\n",
      "  5.39574703e-04 -1.01239452e-05  1.15970966e-03 -4.93311428e-03\n",
      " -1.04244057e-04 -7.40128414e-06  3.27616294e-06  1.84062667e-07\n",
      " -2.16783313e-05 -2.02724189e-04 -2.11603000e-05 -8.00197140e-05\n",
      " -8.64332421e-04  4.72484131e-08 -5.12646146e-06 -2.11233888e-07\n",
      " -7.70648089e-02  3.92541215e-02 -5.72682499e-08 -2.38520526e-03\n",
      " -1.34712459e-03  1.16975985e-06 -9.97333536e-04 -7.45061127e-04\n",
      " -4.43648304e-07 -4.27446372e-03 -1.45580058e-06  6.28249718e+00\n",
      "  1.55578435e-05 -5.82275254e-04 -1.50197390e-03  1.54653921e-07\n",
      "  2.77875897e-05 -7.85048030e-03  2.53989126e-06]\n",
      "proportion=0.9, degree=7, Training RMSE=0.760, Testing RMSE=0.762\n",
      "[-1.63846625e+00  4.32972961e-01 -3.90281463e-01 -3.58878001e-01\n",
      "  7.05052572e-02  2.36840263e-01 -2.30021948e-01 -1.88355950e-01\n",
      "  1.94357202e-01 -2.39445474e-02 -2.24144495e+02 -1.96113958e-01\n",
      " -1.50648176e-01  1.96666666e-01  4.36111359e+01  9.29958904e-03\n",
      " -1.28202227e-03  4.29794961e+01  5.71082946e-03  3.59189189e-03\n",
      " -2.40448242e-03  7.76453256e-03 -2.62721400e-02  7.01847564e+01\n",
      "  1.56659322e-01 -7.18048227e-05 -1.13590486e-02  1.85668930e-01\n",
      "  3.01843356e-03  2.28393072e-02  1.89775855e+02 -1.85806326e-01\n",
      "  8.90463250e-03 -4.28457037e-02  8.22522285e-02  1.02069330e-01\n",
      "  3.60599648e-01 -2.98687526e-02 -4.70943523e-03 -1.06756105e-02\n",
      "  4.48467102e-02  1.12425379e-01  2.79261549e-02  3.62528573e-02\n",
      " -9.61560662e-02  1.21498498e-02 -6.01680381e-03 -1.13801127e-01\n",
      " -4.71817415e-02 -1.96036514e-03  4.11082600e-02 -6.16966284e-03\n",
      " -7.40118812e-02  2.75143493e+01 -1.01566080e-01  1.63819671e-01\n",
      "  1.04899949e-02 -6.28894701e-02  2.22402359e-01 -4.89182787e-02\n",
      " -2.48429160e-02 -9.31168265e-02  9.42226107e-02  3.86607393e-02\n",
      " -6.88319457e-02 -2.48388033e-01 -2.35813796e-01  1.69369482e-03\n",
      "  9.46487491e-03  1.19713142e-02 -5.21930859e-02 -3.73097327e-02\n",
      "  3.10893087e-01 -4.78725762e-02  1.60193255e-02 -2.51977496e-02\n",
      " -3.63729475e-03  5.56083547e-02 -1.00332596e-02 -3.08053217e-03\n",
      " -2.49227168e-02 -2.50479284e-02  2.63740208e-02 -7.57110011e+01\n",
      "  7.15876464e-02 -9.05177255e-03  1.58848848e-03  1.72064048e-02\n",
      " -3.52473412e-03 -6.54926240e-02  2.99092474e-02  4.43569917e-02\n",
      " -2.83414562e-02 -6.57185141e-03  2.87268223e-02 -2.08806976e-04\n",
      "  7.03947110e-02 -1.50826558e-03 -1.90878600e-02 -2.18396079e-03\n",
      "  1.81848384e-02  5.74386142e-03 -3.56846915e-02  7.02892050e-02\n",
      " -8.03761077e-04 -2.91878118e-02  2.00660345e-03 -1.23976124e-02\n",
      " -8.39320554e-03  3.51969301e-05  5.65333997e-03  9.72652439e-03\n",
      " -2.44699735e-03 -1.79072875e+01 -2.73938384e-02 -7.51223575e-03\n",
      " -5.53261617e-03 -2.87678974e-03 -2.52265948e-02  2.96478599e-02\n",
      " -1.02376231e-02 -6.22727674e-03  3.30633216e-03  4.73655123e-04\n",
      " -6.04402350e-03  7.09467225e-02 -1.04966136e-02  1.49592649e-03\n",
      "  5.55787451e-03  1.55223878e-04 -2.78760255e-03 -4.33873689e-04\n",
      " -3.33214045e-03 -6.54516302e-02 -2.29247984e-05  1.48840674e-02\n",
      "  5.07859821e-03  1.30369604e-03  5.70662734e-03  2.24484845e-03\n",
      " -5.75144243e-04  1.94812541e-02 -2.22968424e-04  2.67071492e+00\n",
      "  5.22461262e-03  5.07408787e-03  5.53665869e-03  2.47759437e-04\n",
      "  8.59879552e-04  4.23357543e-02  1.54750789e-03  3.60013578e-04\n",
      " -1.71231994e-04 -1.53834043e-05  5.94835733e-04 -1.57721901e-02\n",
      "  7.59179225e-04  1.61765271e-04  3.12323262e-03 -4.64874436e-06\n",
      "  1.95933507e-04  1.55606808e-05  2.52292551e-02 -3.78057959e-02\n",
      "  2.84602198e-06  4.89428907e-03  5.42300154e-05 -6.37553289e-05\n",
      "  2.09349426e-03  8.52233943e-05  2.64288666e-05 -3.05603345e-03\n",
      "  4.16551705e-05 -4.87388540e+00 -4.66903907e-04 -6.18631708e-04\n",
      "  5.39574703e-04 -1.01239452e-05  1.15970966e-03 -4.93311428e-03\n",
      " -1.04244057e-04 -7.40128414e-06  3.27616294e-06  1.84062667e-07\n",
      " -2.16783313e-05 -2.02724189e-04 -2.11603000e-05 -8.00197140e-05\n",
      " -8.64332421e-04  4.72484131e-08 -5.12646146e-06 -2.11233888e-07\n",
      " -7.70648089e-02  3.92541215e-02 -5.72682499e-08 -2.38520526e-03\n",
      " -1.34712459e-03  1.16975985e-06 -9.97333536e-04 -7.45061127e-04\n",
      " -4.43648304e-07 -4.27446372e-03 -1.45580058e-06  6.28249718e+00\n",
      "  1.55578435e-05 -5.82275254e-04 -1.50197390e-03  1.54653921e-07\n",
      "  2.77875897e-05 -7.85048030e-03  2.53989126e-06]\n"
     ]
    }
   ],
   "source": [
    "seed = 6\n",
    "degrees = [7]\n",
    "split_ratios = [0.9]\n",
    "weights = train_test_split_demo(norm_tX, y, degree, split_ratio, seed)\n",
    "#print(weights)\n",
    "\n",
    "#for split_ratio in split_ratios:\n",
    "    #for degree in degrees:\n",
    "      #  train_test_split_demo(norm_tX, y, degree, split_ratio, seed)\n",
    "        \n",
    "#for split_ratio in split_ratios:\n",
    " #   for degree in degrees:\n",
    "  #      train_test_split_demo(norm_tX2, y, degree, split_ratio, seed)"
   ]
  },
  {
   "cell_type": "code",
   "execution_count": null,
   "metadata": {},
   "outputs": [],
   "source": [
    "\n",
    "\n"
   ]
  },
  {
   "cell_type": "code",
   "execution_count": null,
   "metadata": {},
   "outputs": [],
   "source": []
  },
  {
   "cell_type": "markdown",
   "metadata": {},
   "source": [
    "## Generate predictions and save ouput in csv format for submission:"
   ]
  },
  {
   "cell_type": "code",
   "execution_count": 133,
   "metadata": {},
   "outputs": [],
   "source": [
    "DATA_TEST_PATH = 'data/test.csv.zip' # TODO: download train data and supply path here \n",
    "y, tX_test, ids_test = load_csv_data(DATA_TEST_PATH)"
   ]
  },
  {
   "cell_type": "code",
   "execution_count": 134,
   "metadata": {},
   "outputs": [],
   "source": [
    "# we know that very low values are used to signal unavailable data\n",
    "#tX_test[tX_test < -900] = np.nan"
   ]
  },
  {
   "cell_type": "code",
   "execution_count": 137,
   "metadata": {},
   "outputs": [],
   "source": [
    "tX_test_mean = np.nanmean(tX_test,axis=0)\n",
    "tX_test_std = np.nanstd(tX_test,axis=0)\n",
    "norm_tX_test = np.subtract(tX_test, tX_test_mean, where=np.isfinite(tX_test_mean))\n",
    "norm_tX_test = np.divide(norm_tX_test, tX_test_std, where=tX_test_std>0)\n",
    "norm_tX_test = build_poly(norm_tX_test, 7)\n"
   ]
  },
  {
   "cell_type": "code",
   "execution_count": 138,
   "metadata": {},
   "outputs": [
    {
     "name": "stdout",
     "output_type": "stream",
     "text": [
      "[-1.63846625e+00  4.32972961e-01 -3.90281463e-01 -3.58878001e-01\n",
      "  7.05052572e-02  2.36840263e-01 -2.30021948e-01 -1.88355950e-01\n",
      "  1.94357202e-01 -2.39445474e-02 -2.24144495e+02 -1.96113958e-01\n",
      " -1.50648176e-01  1.96666666e-01  4.36111359e+01  9.29958904e-03\n",
      " -1.28202227e-03  4.29794961e+01  5.71082946e-03  3.59189189e-03\n",
      " -2.40448242e-03  7.76453256e-03 -2.62721400e-02  7.01847564e+01\n",
      "  1.56659322e-01 -7.18048227e-05 -1.13590486e-02  1.85668930e-01\n",
      "  3.01843356e-03  2.28393072e-02  1.89775855e+02 -1.85806326e-01\n",
      "  8.90463250e-03 -4.28457037e-02  8.22522285e-02  1.02069330e-01\n",
      "  3.60599648e-01 -2.98687526e-02 -4.70943523e-03 -1.06756105e-02\n",
      "  4.48467102e-02  1.12425379e-01  2.79261549e-02  3.62528573e-02\n",
      " -9.61560662e-02  1.21498498e-02 -6.01680381e-03 -1.13801127e-01\n",
      " -4.71817415e-02 -1.96036514e-03  4.11082600e-02 -6.16966284e-03\n",
      " -7.40118812e-02  2.75143493e+01 -1.01566080e-01  1.63819671e-01\n",
      "  1.04899949e-02 -6.28894701e-02  2.22402359e-01 -4.89182787e-02\n",
      " -2.48429160e-02 -9.31168265e-02  9.42226107e-02  3.86607393e-02\n",
      " -6.88319457e-02 -2.48388033e-01 -2.35813796e-01  1.69369482e-03\n",
      "  9.46487491e-03  1.19713142e-02 -5.21930859e-02 -3.73097327e-02\n",
      "  3.10893087e-01 -4.78725762e-02  1.60193255e-02 -2.51977496e-02\n",
      " -3.63729475e-03  5.56083547e-02 -1.00332596e-02 -3.08053217e-03\n",
      " -2.49227168e-02 -2.50479284e-02  2.63740208e-02 -7.57110011e+01\n",
      "  7.15876464e-02 -9.05177255e-03  1.58848848e-03  1.72064048e-02\n",
      " -3.52473412e-03 -6.54926240e-02  2.99092474e-02  4.43569917e-02\n",
      " -2.83414562e-02 -6.57185141e-03  2.87268223e-02 -2.08806976e-04\n",
      "  7.03947110e-02 -1.50826558e-03 -1.90878600e-02 -2.18396079e-03\n",
      "  1.81848384e-02  5.74386142e-03 -3.56846915e-02  7.02892050e-02\n",
      " -8.03761077e-04 -2.91878118e-02  2.00660345e-03 -1.23976124e-02\n",
      " -8.39320554e-03  3.51969301e-05  5.65333997e-03  9.72652439e-03\n",
      " -2.44699735e-03 -1.79072875e+01 -2.73938384e-02 -7.51223575e-03\n",
      " -5.53261617e-03 -2.87678974e-03 -2.52265948e-02  2.96478599e-02\n",
      " -1.02376231e-02 -6.22727674e-03  3.30633216e-03  4.73655123e-04\n",
      " -6.04402350e-03  7.09467225e-02 -1.04966136e-02  1.49592649e-03\n",
      "  5.55787451e-03  1.55223878e-04 -2.78760255e-03 -4.33873689e-04\n",
      " -3.33214045e-03 -6.54516302e-02 -2.29247984e-05  1.48840674e-02\n",
      "  5.07859821e-03  1.30369604e-03  5.70662734e-03  2.24484845e-03\n",
      " -5.75144243e-04  1.94812541e-02 -2.22968424e-04  2.67071492e+00\n",
      "  5.22461262e-03  5.07408787e-03  5.53665869e-03  2.47759437e-04\n",
      "  8.59879552e-04  4.23357543e-02  1.54750789e-03  3.60013578e-04\n",
      " -1.71231994e-04 -1.53834043e-05  5.94835733e-04 -1.57721901e-02\n",
      "  7.59179225e-04  1.61765271e-04  3.12323262e-03 -4.64874436e-06\n",
      "  1.95933507e-04  1.55606808e-05  2.52292551e-02 -3.78057959e-02\n",
      "  2.84602198e-06  4.89428907e-03  5.42300154e-05 -6.37553289e-05\n",
      "  2.09349426e-03  8.52233943e-05  2.64288666e-05 -3.05603345e-03\n",
      "  4.16551705e-05 -4.87388540e+00 -4.66903907e-04 -6.18631708e-04\n",
      "  5.39574703e-04 -1.01239452e-05  1.15970966e-03 -4.93311428e-03\n",
      " -1.04244057e-04 -7.40128414e-06  3.27616294e-06  1.84062667e-07\n",
      " -2.16783313e-05 -2.02724189e-04 -2.11603000e-05 -8.00197140e-05\n",
      " -8.64332421e-04  4.72484131e-08 -5.12646146e-06 -2.11233888e-07\n",
      " -7.70648089e-02  3.92541215e-02 -5.72682499e-08 -2.38520526e-03\n",
      " -1.34712459e-03  1.16975985e-06 -9.97333536e-04 -7.45061127e-04\n",
      " -4.43648304e-07 -4.27446372e-03 -1.45580058e-06  6.28249718e+00\n",
      "  1.55578435e-05 -5.82275254e-04 -1.50197390e-03  1.54653921e-07\n",
      "  2.77875897e-05 -7.85048030e-03  2.53989126e-06]\n",
      "[-0.45788849 -0.19762627 -0.06948137 ...  0.35913234  0.82407214\n",
      " -0.74958815]\n"
     ]
    }
   ],
   "source": [
    "OUTPUT_PATH = 'data/sample-submission' # TODO: fill in desired name of output file for submission\n",
    "#print(np.shape(y))\n",
    "#print(np.shape(norm_tX_test))\n",
    "#print(np.shape(weights))\n",
    "print(weights)\n",
    "y_pred = predict_labels(weights, norm_tX_test)\n",
    "\n",
    "create_csv_submission(ids_test, y_pred, OUTPUT_PATH)"
   ]
  },
  {
   "cell_type": "code",
   "execution_count": null,
   "metadata": {},
   "outputs": [],
   "source": []
  },
  {
   "cell_type": "code",
   "execution_count": null,
   "metadata": {},
   "outputs": [],
   "source": []
  }
 ],
 "metadata": {
  "anaconda-cloud": {},
  "kernelspec": {
   "display_name": "Python 3",
   "language": "python",
   "name": "python3"
  },
  "language_info": {
   "codemirror_mode": {
    "name": "ipython",
    "version": 3
   },
   "file_extension": ".py",
   "mimetype": "text/x-python",
   "name": "python",
   "nbconvert_exporter": "python",
   "pygments_lexer": "ipython3",
   "version": "3.8.8"
  }
 },
 "nbformat": 4,
 "nbformat_minor": 4
}
